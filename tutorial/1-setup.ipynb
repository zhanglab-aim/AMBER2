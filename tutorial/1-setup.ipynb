{
 "cells": [
  {
   "cell_type": "code",
   "execution_count": null,
   "id": "262c9445",
   "metadata": {},
   "outputs": [],
   "source": []
  },
  {
   "cell_type": "code",
   "execution_count": 1,
   "id": "f041afb0",
   "metadata": {},
   "outputs": [
    {
     "name": "stderr",
     "output_type": "stream",
     "text": [
      "2023-12-09 23:10:27.975768: I tensorflow/core/platform/cpu_feature_guard.cc:193] This TensorFlow binary is optimized with oneAPI Deep Neural Network Library (oneDNN) to use the following CPU instructions in performance-critical operations:  AVX2 FMA\n",
      "To enable them in other operations, rebuild TensorFlow with the appropriate compiler flags.\n"
     ]
    }
   ],
   "source": [
    "import amber"
   ]
  },
  {
   "cell_type": "code",
   "execution_count": 2,
   "id": "bfa71d10",
   "metadata": {},
   "outputs": [],
   "source": [
    "from amber.architect import IntegerModelVariable, ContinuousModelVariable\n",
    "from amber.architect import ModelSpace"
   ]
  },
  {
   "cell_type": "code",
   "execution_count": 3,
   "id": "4ce56fbe",
   "metadata": {},
   "outputs": [],
   "source": [
    "model_space = ModelSpace.from_list([\n",
    "    IntegerModelVariable('layer1_operator', 1, 5),\n",
    "    IntegerModelVariable('layer2_operator', 1, 5),\n",
    "    IntegerModelVariable('layer3_operator', 1, 5),\n",
    "    IntegerModelVariable('layer4_operator', 1, 5),\n",
    "])"
   ]
  },
  {
   "cell_type": "code",
   "execution_count": 4,
   "id": "bf5616e0",
   "metadata": {},
   "outputs": [
    {
     "data": {
      "text/plain": [
       "ModelSpace([('layer1_operator', Variable(name=layer1_operator, value=1)),\n",
       "            ('layer2_operator', Variable(name=layer2_operator, value=2)),\n",
       "            ('layer3_operator', Variable(name=layer3_operator, value=4)),\n",
       "            ('layer4_operator', Variable(name=layer4_operator, value=1))])"
      ]
     },
     "execution_count": 4,
     "metadata": {},
     "output_type": "execute_result"
    }
   ],
   "source": [
    "model_space"
   ]
  },
  {
   "cell_type": "code",
   "execution_count": 5,
   "id": "ed87e2dd",
   "metadata": {
    "scrolled": false
   },
   "outputs": [],
   "source": [
    "controller = amber.architect.controller.RecurrentRLController(\n",
    "            model_space=model_space,\n",
    "            with_skip_connection=True,\n",
    "            kl_threshold=0.05,\n",
    "            buffer_size=15,\n",
    "            batch_size=5,\n",
    "            train_pi_iter=10,\n",
    "            lstm_size=64,\n",
    "            lstm_num_layers=1,\n",
    "            optim_algo=\"adam\",\n",
    "            skip_target=0.8,\n",
    "            skip_weight=0.1,\n",
    ")"
   ]
  },
  {
   "cell_type": "code",
   "execution_count": 6,
   "id": "4f977aeb",
   "metadata": {},
   "outputs": [],
   "source": [
    "arc, prob = controller.sample(decode=True)"
   ]
  },
  {
   "cell_type": "code",
   "execution_count": 7,
   "id": "be849185",
   "metadata": {},
   "outputs": [
    {
     "data": {
      "text/plain": [
       "(tensor([10.6010], grad_fn=<ReshapeAliasBackward0>),\n",
       " [tensor([[0.1997, 0.2007, 0.1996, 0.1996, 0.2004]], grad_fn=<SoftmaxBackward0>),\n",
       "  tensor([[0.2005, 0.2002, 0.2002, 0.1995, 0.1997]], grad_fn=<SoftmaxBackward0>),\n",
       "  tensor([[[0.5008, 0.4992]]], grad_fn=<ReshapeAliasBackward0>),\n",
       "  tensor([[0.1997, 0.2000, 0.2008, 0.2001, 0.1994]], grad_fn=<SoftmaxBackward0>),\n",
       "  tensor([[[0.4998, 0.5002],\n",
       "           [0.5002, 0.4998]]], grad_fn=<ReshapeAliasBackward0>),\n",
       "  tensor([[0.1995, 0.2003, 0.1992, 0.2008, 0.2001]], grad_fn=<SoftmaxBackward0>),\n",
       "  tensor([[[0.4981, 0.5019],\n",
       "           [0.4985, 0.5015],\n",
       "           [0.4979, 0.5021]]], grad_fn=<ReshapeAliasBackward0>)],\n",
       " tensor([[[1.]],\n",
       " \n",
       "         [[1.]],\n",
       " \n",
       "         [[1.]]]),\n",
       " tensor(0.2229, grad_fn=<MeanBackward1>))"
      ]
     },
     "execution_count": 7,
     "metadata": {},
     "output_type": "execute_result"
    }
   ],
   "source": [
    "controller.evaluate(arc, encode=True)"
   ]
  },
  {
   "cell_type": "code",
   "execution_count": 8,
   "id": "5517b2b5",
   "metadata": {},
   "outputs": [
    {
     "data": {
      "text/plain": [
       "([4, 1, 3, 0],\n",
       " [array([1], dtype=int32),\n",
       "  array([1, 0], dtype=int32),\n",
       "  array([0, 1, 0], dtype=int32)])"
      ]
     },
     "execution_count": 8,
     "metadata": {},
     "output_type": "execute_result"
    }
   ],
   "source": [
    "arc"
   ]
  },
  {
   "cell_type": "code",
   "execution_count": null,
   "id": "1db97c6e",
   "metadata": {},
   "outputs": [],
   "source": []
  }
 ],
 "metadata": {
  "kernelspec": {
   "display_name": "Python 3 (ipykernel)",
   "language": "python",
   "name": "python3"
  },
  "language_info": {
   "codemirror_mode": {
    "name": "ipython",
    "version": 3
   },
   "file_extension": ".py",
   "mimetype": "text/x-python",
   "name": "python",
   "nbconvert_exporter": "python",
   "pygments_lexer": "ipython3",
   "version": "3.10.8"
  }
 },
 "nbformat": 4,
 "nbformat_minor": 5
}
