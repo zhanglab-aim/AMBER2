{
 "cells": [
  {
   "cell_type": "markdown",
   "id": "49a98c5b",
   "metadata": {},
   "source": [
    "# Tutorial for using RecurrentRLController"
   ]
  },
  {
   "cell_type": "markdown",
   "id": "1949d612-dc7b-40c9-957b-b55a45a302b8",
   "metadata": {},
   "source": [
    "In this tutorial, we'll discuss how to setup a `RecurrentRLController` and its corresponding `ModelSpace`. \n",
    "\n",
    "We first construct a simple `ModelSpace` of four neural network layers, where each layer has five options of different computational operations.\n",
    "\n",
    "Then we use the `RecurrentRLController` to perform reinforcement learning (RL) and update a LSTM controller with policy gradients. We will create a mock reward that scores substring pattern of `21`, and evaluate if RL can find the optimal solution.\n",
    "\n",
    "For instance, in `ModelSpace` the five options for each layer is: 1=max-pooling, 2=convolution, 3=average-pooling, 4=dropout, 5=identity/zero. Our `RecurrentRLController` will seek to find `conv->maxpool` pairs via the mock reward. The optimal 4-layer architecture is `conv->maxpool->conv->maxpool`.\n",
    "\n",
    "Notably, in practice, it is up to the `Modeler` to determine which architecture token (i.e., an integer $\\in [1,5]$ in this case) maps to what operation. For now, we won't discuss `Modeler` yet.\n",
    "\n",
    "---\n",
    "\n",
    "## Table of Contents\n",
    "1. [Create ModelSpace](#section1)\n",
    "2. [Create Controller](#section2)\n",
    "3. [How to understand the Residual connections?](#section3)\n",
    "4. [Optimizing a black-box function](#section4)\n"
   ]
  },
  {
   "cell_type": "markdown",
   "id": "ab7ecaed-3f00-4709-a7b4-241990aba413",
   "metadata": {},
   "source": [
    "<a id='section1'></a>\n",
    "## Create ModelSpace\n",
    "\n",
    "After importing what we need, we will create a `ModelSpace` with four layers.\n",
    "\n",
    "For simplicity, we let each layer has five choices, so that the token embedding layers may be shared in the controller for our tutorial. We will model the choices as a random variable drawing integers ${1,2,3,4,5}$, as specified by `IntegerModelVariable`. The `name` Attribute is a unique identifier for a model variable and needs to be unique within a Model Space.\n",
    "\n",
    "In specific use cases, you are free to explore any configurations, as long as instantiated via `IntegerModelVariable`. \n"
   ]
  },
  {
   "cell_type": "code",
   "execution_count": 1,
   "id": "f041afb0",
   "metadata": {},
   "outputs": [],
   "source": [
    "import amber\n",
    "from amber.architect import IntegerModelVariable, ContinuousModelVariable\n",
    "from amber.architect import ModelSpace\n",
    "from amber import backend as F\n",
    "import matplotlib.pyplot as plt\n",
    "import numpy as np\n",
    "\n",
    "# for reproducibility\n",
    "F.set_seed(777)"
   ]
  },
  {
   "cell_type": "code",
   "execution_count": 2,
   "id": "4ce56fbe",
   "metadata": {},
   "outputs": [
    {
     "data": {
      "text/plain": [
       "ModelSpace([('layer1_operator', Variable(name=layer1_operator, value=3)),\n",
       "            ('layer2_operator', Variable(name=layer2_operator, value=5)),\n",
       "            ('layer3_operator', Variable(name=layer3_operator, value=1)),\n",
       "            ('layer4_operator', Variable(name=layer4_operator, value=4))])"
      ]
     },
     "execution_count": 2,
     "metadata": {},
     "output_type": "execute_result"
    }
   ],
   "source": [
    "model_space = ModelSpace.from_list([\n",
    "    IntegerModelVariable(name='layer1_operator', min=1, max=5),\n",
    "    IntegerModelVariable(name='layer2_operator', min=1, max=5),\n",
    "    IntegerModelVariable(name='layer3_operator', min=1, max=5),\n",
    "    IntegerModelVariable(name='layer4_operator', min=1, max=5),\n",
    "])\n",
    "\n",
    "model_space"
   ]
  },
  {
   "cell_type": "markdown",
   "id": "6b39c2b1-8ec4-4780-abaf-b2a298c17662",
   "metadata": {},
   "source": [
    "<a id='section2'></a>\n",
    "## Create Controller"
   ]
  },
  {
   "cell_type": "code",
   "execution_count": 3,
   "id": "ed87e2dd",
   "metadata": {},
   "outputs": [],
   "source": [
    "controller = amber.architect.controller.RecurrentRLController(\n",
    "            model_space=model_space,\n",
    "            with_skip_connection=True,\n",
    "            lstm_size=64,\n",
    "            lstm_num_layers=1,\n",
    "            # these hyperparameters are important\n",
    "            batch_size=5,\n",
    "            buffer_size=15,\n",
    "            train_pi_iter=5,\n",
    "            temperature=3.5,\n",
    "            #share_embedding={1:0, 2:0, 3:0}, # Optional\n",
    ")"
   ]
  },
  {
   "cell_type": "code",
   "execution_count": 4,
   "id": "4f977aeb",
   "metadata": {},
   "outputs": [
    {
     "name": "stdout",
     "output_type": "stream",
     "text": [
      "controller.sample() -> architecture token list: [1 2 0 4 1 0 2 0 1 1]\n",
      "controller.evaluate(arc) -> log-likelihood of arc: tensor([10.5961], grad_fn=<ViewBackward0>)\n"
     ]
    }
   ],
   "source": [
    "# by default, controller sample and evaluate architectures in its native format of a long Python List\n",
    "arc, prob = controller.sample()\n",
    "print('controller.sample() -> architecture token list:', arc)\n",
    "res = controller.evaluate(arc)\n",
    "print('controller.evaluate(arc) -> log-likelihood of arc:', res[0])"
   ]
  },
  {
   "cell_type": "code",
   "execution_count": 5,
   "id": "be849185",
   "metadata": {},
   "outputs": [
    {
     "name": "stdout",
     "output_type": "stream",
     "text": [
      "controller.sample(decode=True) -> architecture token list[0], values for IntegerModelVariable: [0, 2, 0, 2]\n",
      "                               -> architecture token list[1], residual connections: [array([0], dtype=int32), array([1, 0], dtype=int32), array([1, 1, 1], dtype=int32)]\n",
      "controller.evaluate(arc, encode=True) -> log-likelihood of arc: tensor([10.5967], grad_fn=<ViewBackward0>)\n"
     ]
    }
   ],
   "source": [
    "# you can also call the built-in architecture token decoder, which may be easier for Modeler construction\n",
    "use_decoder = True\n",
    "arc, prob = controller.sample(decode=use_decoder)\n",
    "print('controller.sample(decode=True) -> architecture token list[0], values for IntegerModelVariable:', arc[0])\n",
    "print('                               -> architecture token list[1], residual connections:', arc[1])\n",
    "# if use_decoder to sample, you need encoder to evaluate\n",
    "res = controller.evaluate(arc, encode=use_decoder)\n",
    "print('controller.evaluate(arc, encode=True) -> log-likelihood of arc:', res[0])"
   ]
  },
  {
   "cell_type": "markdown",
   "id": "2c5aabc8-385f-4e45-a339-75368bfe3368",
   "metadata": {},
   "source": [
    "<a id='section3'></a>\n",
    "## How to understand the Residual connections?\n",
    "residual connections: [array([1], dtype=int32), array([0, 0], dtype=int32), array([1, 0, 0], dtype=int32)]\n",
    "\n",
    "is equivalent to\n",
    "\n",
    "|   |         | Layer 1 | Layer 2 | Layer 3 | \n",
    "|---|---------|---------|---------|---------|\n",
    "|   | Layer 2 | 0/1     |         |         | \n",
    "|   | Layer 3 | 0/1     | 0/1     |         | \n",
    "|   | Layer 4 | 0/1     | 0/1     | 0/1     | "
   ]
  },
  {
   "cell_type": "markdown",
   "id": "c7c9a260-852c-40e0-94b3-a652baf294d3",
   "metadata": {},
   "source": [
    "<a id='section4'></a>\n",
    "## Optimizing a black-box function\n",
    "\n",
    "We will give a minimal example of using `RecurrentRLController` for optimization of a black-box function.\n",
    "\n",
    "The function simply counts how many substrings of `21` in the sampled architecture. \n",
    "\n",
    "For instance, `f(arc=1234)=0`, `f(arc=0213)=f(arc=1215)=1`, and `f(arc=2121)=2`"
   ]
  },
  {
   "cell_type": "code",
   "execution_count": 6,
   "id": "fe027898-35f6-4f6c-a65d-210c0a6a0f7e",
   "metadata": {},
   "outputs": [
    {
     "data": {
      "text/plain": [
       "(0, 1, 1, 2)"
      ]
     },
     "execution_count": 6,
     "metadata": {},
     "output_type": "execute_result"
    }
   ],
   "source": [
    "def mock_modeler(arc: list) -> float:\n",
    "    return ''.join([str(x) for x in arc]).count('21')\n",
    "\n",
    "# test\n",
    "mock_modeler([1,2,3,4]), mock_modeler([0,2,1,3]), mock_modeler([1,2,1,5]), mock_modeler([2,1,2,1])"
   ]
  },
  {
   "cell_type": "markdown",
   "id": "522b8f5c-7e98-4539-8628-225f2961ba97",
   "metadata": {},
   "source": [
    "While this may seem like an easy enough task, it actually **is not**. \n",
    "\n",
    "- The model space has $5^4=625$ operation configurations, and there is only $1$ configuration that scores 2, $100$ configurations score 1, with the remaining $524$ configuration score 0. \n",
    "\n",
    "- More importantly, the score distribution is not smooth, thus not particularly \"gradient-friendly\".\n",
    "\n",
    "- Since the `RecurrentRLController` also samples the residual connections, that further expand the model space by $2^{(1+2+3)}=64$ times, so we have a total of $40,000$ possible models.\n"
   ]
  },
  {
   "cell_type": "markdown",
   "id": "617540c1-8e3f-4838-a009-86ffd92cb779",
   "metadata": {},
   "source": [
    "As you'll see below, we only need to sample fewer than $250$ to converge to this optimal architecture. \n",
    "\n",
    "But, I won't lie to you, it is more likely to converge to the sub-optimal architectures with a score of 1, for the reasons listed above. \n",
    "\n",
    "The RL optimization hyperparameters play an essential role here. If you think NAS is a complete hands-free approach, unfortunately it isn't. For example, setting `train_pi_iter=20` will lead to more probable convergence to score 1 architectures because the controller would be trained too hard before it can explore other possibilities. Same applies to a lower temperature e.g. `temperature=1.5`.\n"
   ]
  },
  {
   "cell_type": "code",
   "execution_count": 7,
   "id": "4db43f11-bc46-4901-8aa5-07717c4df00c",
   "metadata": {},
   "outputs": [
    {
     "name": "stdout",
     "output_type": "stream",
     "text": [
      "CPU times: user 3min 14s, sys: 3.38 s, total: 3min 17s\n",
      "Wall time: 24.8 s\n"
     ]
    }
   ],
   "source": [
    "%%time\n",
    "max_iter = 50\n",
    "rewards = []\n",
    "for _ in range(max_iter):\n",
    "    # sample 5 arcs in each iteration\n",
    "    B = 5\n",
    "    inner_rewards = []\n",
    "    for i in range(B):\n",
    "        arc, prob = controller.sample()\n",
    "        # only score the ModelVariables, not the residual connections\n",
    "        ops = controller.decoder.decode(arc)[0]\n",
    "        reward = mock_modeler(ops)\n",
    "        controller.store(action=arc, prob=prob, reward=reward)\n",
    "        inner_rewards.append(reward)\n",
    "    rewards.append(sum(inner_rewards)/B)\n",
    "    controller.train()\n"
   ]
  },
  {
   "cell_type": "code",
   "execution_count": 8,
   "id": "e130a914-35d9-4abb-a4f7-11fae430fd46",
   "metadata": {},
   "outputs": [
    {
     "data": {
      "text/plain": [
       "Text(0, 0.5, 'Reward')"
      ]
     },
     "execution_count": 8,
     "metadata": {},
     "output_type": "execute_result"
    },
    {
     "data": {
      "image/png": "[encoded data removed]",
      "text/plain": [
       "<Figure size 640x480 with 1 Axes>"
      ]
     },
     "metadata": {},
     "output_type": "display_data"
    }
   ],
   "source": [
    "# visualize the rewards over search\n",
    "fig, ax = plt.subplots()\n",
    "ax.plot(np.arange(len(rewards)), rewards, marker='o')\n",
    "ax.set_xlabel('Iteration')\n",
    "ax.set_ylabel('Reward')\n"
   ]
  },
  {
   "cell_type": "code",
   "execution_count": 9,
   "id": "2ab27de4-afc1-4972-a989-843114505e58",
   "metadata": {},
   "outputs": [
    {
     "data": {
      "text/plain": [
       "(array([2, 1, 0, 2, 1, 0, 1, 1, 1, 1], dtype=int32),\n",
       " [array([[1.09059270e-04, 3.80669292e-07, 9.99882698e-01, 1.08078694e-07,\n",
       "          7.69347571e-06]], dtype=float32),\n",
       "  array([[2.7739567e-08, 9.9999988e-01, 1.2032196e-08, 2.8596434e-08,\n",
       "          6.9332756e-08]], dtype=float32),\n",
       "  array([[[9.999939e-01, 6.109019e-06]]], dtype=float32),\n",
       "  array([[1.0476174e-03, 8.5901580e-04, 9.9789906e-01, 1.8755643e-04,\n",
       "          6.6570606e-06]], dtype=float32),\n",
       "  array([[[0.11717558, 0.8828244 ],\n",
       "          [0.7846031 , 0.21539688]]], dtype=float32),\n",
       "  array([[6.1381594e-05, 9.9987411e-01, 4.3094860e-05, 1.5025145e-05,\n",
       "          6.2842937e-06]], dtype=float32),\n",
       "  array([[[7.3521867e-02, 9.2647809e-01],\n",
       "          [3.8381788e-01, 6.1618209e-01],\n",
       "          [7.5958860e-06, 9.9999237e-01]]], dtype=float32)])"
      ]
     },
     "execution_count": 9,
     "metadata": {},
     "output_type": "execute_result"
    }
   ],
   "source": [
    "controller.sample()"
   ]
  },
  {
   "cell_type": "markdown",
   "id": "4f35a04a-8ca2-402e-95d5-26a91ce2fd08",
   "metadata": {},
   "source": [
    "We can see the `RecurrentRLController` successfully learned the optimal architecture `[2,1,2,1]`. Note we only score the Computational Operation part of the architecture, not the Residual Connections."
   ]
  },
  {
   "cell_type": "code",
   "execution_count": 10,
   "id": "c83e5772-2969-4758-9074-e961a867be63",
   "metadata": {},
   "outputs": [
    {
     "name": "stdout",
     "output_type": "stream",
     "text": [
      "Author: FrankZijunZhang\n",
      "\n",
      "Last updated: 2023-12-11 01:34:55\n",
      "\n",
      "amber     : 2.0.0b0\n",
      "matplotlib: 3.8.2\n",
      "numpy     : 1.26.2\n",
      "\n"
     ]
    }
   ],
   "source": [
    "%load_ext watermark\n",
    "%watermark -t -u -iv -a FrankZijunZhang -d "
   ]
  }
 ],
 "metadata": {
  "kernelspec": {
   "display_name": "Python 3 (ipykernel)",
   "language": "python",
   "name": "python3"
  },
  "language_info": {
   "codemirror_mode": {
    "name": "ipython",
    "version": 3
   },
   "file_extension": ".py",
   "mimetype": "text/x-python",
   "name": "python",
   "nbconvert_exporter": "python",
   "pygments_lexer": "ipython3",
   "version": "3.12.0"
  }
 },
 "nbformat": 4,
 "nbformat_minor": 5
}
