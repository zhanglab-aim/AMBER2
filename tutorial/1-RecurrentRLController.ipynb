{
 "cells": [
  {
   "cell_type": "markdown",
   "id": "49a98c5b",
   "metadata": {},
   "source": [
    "# Tutorial for using RecurrentRLController"
   ]
  },
  {
   "cell_type": "markdown",
   "id": "1949d612-dc7b-40c9-957b-b55a45a302b8",
   "metadata": {},
   "source": [
    "In this tutorial, we'll discuss how to setup a recurrent reinforcement learning (RL) controller or `RecurrentRLController` and its corresponding `ModelSpace`. \n",
    "\n",
    "We first construct a simple `ModelSpace` of four neural network layers, where each layer has five options of different computational operations.\n",
    "\n",
    "Then we use the `RecurrentRLController` to perform RL and update an LSTM (long short-term memory) controller with policy gradients.\n",
    "\n",
    "We will create a mock reward that scores a substring pattern of `21` in the model architecture, and evaluate if RL can find the optimal solution.\n",
    "\n",
    "For instance, in `ModelSpace` the five options for each layer is: 1=max-pooling, 2=convolution, 3=average-pooling, 4=dropout, 5=identity/zero. Our `RecurrentRLController` will seek to find `21` pairs, which is `conv(2)->maxpool(1)` via the mock reward. The optimal 4-layer architecture is `2121`, which represents `conv->maxpool->conv->maxpool`.\n",
    "\n",
    "Notably, in practice, it is up to the `Modeler` to determine which architecture token (i.e., an integer $\\in [1,5]$ in this case) maps to what operation. For now, we won't discuss `Modeler` yet.\n",
    "\n",
    "---\n",
    "\n",
    "## Table of Contents\n",
    "1. [Create ModelSpace](#section1)\n",
    "2. [Create Controller](#section2)\n",
    "3. [How to understand the Residual connections?](#section3)\n",
    "4. [Optimizing a black-box function](#section4)\n"
   ]
  },
  {
   "cell_type": "markdown",
   "id": "ab7ecaed-3f00-4709-a7b4-241990aba413",
   "metadata": {},
   "source": [
    "<a id='section1'></a>\n",
    "## Create ModelSpace\n",
    "\n",
    "After importing what we need, we will create a `ModelSpace` with four layers.\n",
    "\n",
    "For simplicity, we let each layer has five choices, so that the token embedding layers may be shared in the controller for our tutorial. We will model the choices as a random variable drawing integers ${1,2,3,4,5}$, as specified by `IntegerModelVariable`. The `name` Attribute is a unique identifier for a model variable and needs to be unique within a Model Space.\n",
    "\n",
    "In specific use cases, you are free to explore any configurations, as long as instantiated via `IntegerModelVariable`. \n"
   ]
  },
  {
   "cell_type": "code",
   "execution_count": 1,
   "id": "e765a840-3604-4d75-be22-c653f8b5ee6e",
   "metadata": {},
   "outputs": [
    {
     "name": "stdout",
     "output_type": "stream",
     "text": [
      "/home/lingj/AMBER2\n"
     ]
    }
   ],
   "source": [
    "%cd .."
   ]
  },
  {
   "cell_type": "code",
   "execution_count": 2,
   "id": "f041afb0",
   "metadata": {},
   "outputs": [
    {
     "name": "stderr",
     "output_type": "stream",
     "text": [
      "/home/lingj/mambaforge/envs/amber2-torch/lib/python3.8/site-packages/h5py/__init__.py:36: UserWarning: h5py is running against HDF5 1.14.3 when it was built against 1.14.2, this may cause problems\n",
      "  _warn((\"h5py is running against HDF5 {0} when it was built against {1}, \"\n"
     ]
    }
   ],
   "source": [
    "import amber\n",
    "from amber.architect import IntegerModelVariable, ContinuousModelVariable\n",
    "from amber.architect import ModelSpace\n",
    "from amber import backend as F\n",
    "import matplotlib.pyplot as plt\n",
    "import numpy as np\n",
    "\n",
    "# for reproducibility\n",
    "F.set_seed(777)"
   ]
  },
  {
   "cell_type": "code",
   "execution_count": 3,
   "id": "4ce56fbe",
   "metadata": {},
   "outputs": [
    {
     "data": {
      "text/plain": [
       "ModelSpace([('layer1_operator', Variable(name=layer1_operator, value=5)),\n",
       "            ('layer2_operator', Variable(name=layer2_operator, value=4)),\n",
       "            ('layer3_operator', Variable(name=layer3_operator, value=1)),\n",
       "            ('layer4_operator', Variable(name=layer4_operator, value=1))])"
      ]
     },
     "execution_count": 3,
     "metadata": {},
     "output_type": "execute_result"
    }
   ],
   "source": [
    "model_space = ModelSpace.from_list([\n",
    "    IntegerModelVariable(name='layer1_operator', min=1, max=5),\n",
    "    IntegerModelVariable(name='layer2_operator', min=1, max=5),\n",
    "    IntegerModelVariable(name='layer3_operator', min=1, max=5),\n",
    "    IntegerModelVariable(name='layer4_operator', min=1, max=5),\n",
    "])\n",
    "\n",
    "model_space"
   ]
  },
  {
   "cell_type": "markdown",
   "id": "6b39c2b1-8ec4-4780-abaf-b2a298c17662",
   "metadata": {},
   "source": [
    "<a id='section2'></a>\n",
    "## Create Controller"
   ]
  },
  {
   "cell_type": "code",
   "execution_count": 4,
   "id": "ed87e2dd",
   "metadata": {},
   "outputs": [],
   "source": [
    "controller = amber.architect.controller.RecurrentRLController(\n",
    "            model_space=model_space,\n",
    "            with_skip_connection=True,\n",
    "            lstm_size=64,\n",
    "            lstm_num_layers=1,\n",
    "            # these hyperparameters are important\n",
    "            # each controller sample is an architecture selected from the layer options in the model space\n",
    "            batch_size=5, # the number of samples processed in one iteration \n",
    "            buffer_size=15, # the max number of samples stored in the buffer\n",
    "            train_pi_iter=5,\n",
    "            temperature=3.5,\n",
    "            #share_embedding={1:0, 2:0, 3:0}, # Optional\n",
    ")"
   ]
  },
  {
   "cell_type": "code",
   "execution_count": 5,
   "id": "4f977aeb",
   "metadata": {},
   "outputs": [
    {
     "name": "stdout",
     "output_type": "stream",
     "text": [
      "controller.sample() -> architecture token list: [1 4 1 3 1 0 1 1 0 1]\n",
      "controller.evaluate(arc) -> log-likelihood of arc: tensor([10.5979], grad_fn=<ViewBackward0>)\n"
     ]
    }
   ],
   "source": [
    "# by default, controller sample and evaluate architectures in its native format of a long Python List\n",
    "arc, prob = controller.sample()\n",
    "print('controller.sample() -> architecture token list:', arc)\n",
    "res = controller.evaluate(arc)\n",
    "print('controller.evaluate(arc) -> log-likelihood of arc:', res[0])"
   ]
  },
  {
   "cell_type": "code",
   "execution_count": 6,
   "id": "be849185",
   "metadata": {},
   "outputs": [
    {
     "name": "stdout",
     "output_type": "stream",
     "text": [
      "controller.sample(decode=True) -> architecture token list[0], values for IntegerModelVariable: [1, 3, 4, 4]\n",
      "                               -> architecture token list[1], residual connections: [array([1], dtype=int32), array([0, 1], dtype=int32), array([0, 1, 1], dtype=int32)]\n",
      "controller.evaluate(arc, encode=True) -> log-likelihood of arc: tensor([10.5955], grad_fn=<ViewBackward0>)\n"
     ]
    }
   ],
   "source": [
    "# you can also call the built-in architecture token decoder, which may be easier for Modeler construction\n",
    "use_decoder = True\n",
    "arc, prob = controller.sample(decode=use_decoder)\n",
    "print('controller.sample(decode=True) -> architecture token list[0], values for IntegerModelVariable:', arc[0])\n",
    "print('                               -> architecture token list[1], residual connections:', arc[1])\n",
    "# if use_decoder to sample, you need encoder to evaluate\n",
    "res = controller.evaluate(arc, encode=use_decoder)\n",
    "print('controller.evaluate(arc, encode=True) -> log-likelihood of arc:', res[0])"
   ]
  },
  {
   "cell_type": "markdown",
   "id": "2c5aabc8-385f-4e45-a339-75368bfe3368",
   "metadata": {},
   "source": [
    "<a id='section3'></a>\n",
    "## How to understand the Residual connections?\n",
    "Residual connections are a type of skip connection that directly adds the input of a layer to its output, allowing for another path for the data to reach latter parts of the NN by skipping layers.\n",
    "residual connections: [array([1], dtype=int32), array([0, 0], dtype=int32), array([1, 0, 0], dtype=int32)]\n",
    "\n",
    "is equivalent to\n",
    "\n",
    "|   |         | Layer 1 | Layer 2 | Layer 3 | \n",
    "|---|---------|---------|---------|---------|\n",
    "|   | Layer 2 | 1       |         |         | \n",
    "|   | Layer 3 | 0       | 0       |         | \n",
    "|   | Layer 4 | 1       | 0       | 0       | \n",
    "\n",
    "In the above example, there's a residual connection between layer 1 and both layers 2 and 4."
   ]
  },
  {
   "cell_type": "markdown",
   "id": "c7c9a260-852c-40e0-94b3-a652baf294d3",
   "metadata": {},
   "source": [
    "<a id='section4'></a>\n",
    "## Optimizing a black-box function\n",
    "\n",
    "We will give a minimal example of using `RecurrentRLController` for optimization of a black-box function.\n",
    "\n",
    "The function simply counts how many substrings of `21` are in the sampled architecture. \n",
    "\n",
    "For instance, `f(arc=1234)=0`, `f(arc=0213)=f(arc=1215)=1`, and `f(arc=2121)=2`"
   ]
  },
  {
   "cell_type": "code",
   "execution_count": 7,
   "id": "fe027898-35f6-4f6c-a65d-210c0a6a0f7e",
   "metadata": {},
   "outputs": [
    {
     "data": {
      "text/plain": [
       "(0, 1, 1, 2)"
      ]
     },
     "execution_count": 7,
     "metadata": {},
     "output_type": "execute_result"
    }
   ],
   "source": [
    "def mock_modeler(arc: list) -> float:\n",
    "    return ''.join([str(x) for x in arc]).count('21')\n",
    "\n",
    "# test\n",
    "mock_modeler([1,2,3,4]), mock_modeler([0,2,1,3]), mock_modeler([1,2,1,5]), mock_modeler([2,1,2,1])"
   ]
  },
  {
   "cell_type": "markdown",
   "id": "522b8f5c-7e98-4539-8628-225f2961ba97",
   "metadata": {},
   "source": [
    "While this may seem like an easy enough task, it actually **is not**. \n",
    "\n",
    "- The model space has $5^4=625$ operation configurations, and there is only $1$ configuration that scores 2, $100$ configurations score 1, with the remaining $524$ configuration score 0. \n",
    "\n",
    "- More importantly, the score distribution is not smooth, thus not particularly \"gradient-friendly\".\n",
    "\n",
    "- Since the `RecurrentRLController` also samples the residual connections, that further expand the model space by $2^{(1+2+3)}=64$ times, so we have a total of $40,000$ possible models.\n"
   ]
  },
  {
   "cell_type": "markdown",
   "id": "617540c1-8e3f-4838-a009-86ffd92cb779",
   "metadata": {},
   "source": [
    "As you'll see below, we only need to sample fewer than $250$ to converge to this optimal architecture. \n",
    "\n",
    "But, I won't lie to you, it is more likely to converge to the sub-optimal architectures with a score of 1, for the reasons listed above. \n",
    "\n",
    "The RL optimization hyperparameters play an essential role here. If you think NAS is a complete hands-free approach, unfortunately it isn't. For example, setting `train_pi_iter=20` will lead to more probable convergence to score 1 architectures because the controller would be trained too hard before it can explore other possibilities. Same applies to a lower temperature e.g. `temperature=1.5`.\n"
   ]
  },
  {
   "cell_type": "code",
   "execution_count": 8,
   "id": "4db43f11-bc46-4901-8aa5-07717c4df00c",
   "metadata": {},
   "outputs": [
    {
     "name": "stdout",
     "output_type": "stream",
     "text": [
      "CPU times: user 1min 46s, sys: 54.7 s, total: 2min 40s\n",
      "Wall time: 35.7 s\n"
     ]
    }
   ],
   "source": [
    "%%time\n",
    "max_iter = 50\n",
    "rewards = []\n",
    "for _ in range(max_iter):\n",
    "    # sample 5 arcs in each iteration\n",
    "    B = 5\n",
    "    inner_rewards = []\n",
    "    for i in range(B):\n",
    "        arc, prob = controller.sample()\n",
    "        # only score the ModelVariables, not the residual connections\n",
    "        ops = controller.decoder.decode(arc)[0]\n",
    "        reward = mock_modeler(ops)\n",
    "        controller.store(action=arc, prob=prob, reward=reward)\n",
    "        inner_rewards.append(reward)\n",
    "    rewards.append(sum(inner_rewards)/B)\n",
    "    controller.train()\n"
   ]
  },
  {
   "cell_type": "markdown",
   "id": "19f87951",
   "metadata": {},
   "source": [
    "- `controller.sample()` gets a sampled architecture and its corresponding probabilities from the RecurrentRLcontroller created earlier\n",
    "- `controller.decoder.decode()` translates/decodes the sampled architecture into a format that can be used to construct a NN\n",
    "- `controller.store()` stores the sampled architecture, its probability, and reward in a buffer\n",
    "- `controller.train()` then trains the controller policy parameters for one step based on sampled architectures and their associated rewards that have been stored in the buffer"
   ]
  },
  {
   "cell_type": "code",
   "execution_count": 9,
   "id": "e130a914-35d9-4abb-a4f7-11fae430fd46",
   "metadata": {},
   "outputs": [
    {
     "data": {
      "text/plain": [
       "Text(0, 0.5, 'Reward')"
      ]
     },
     "execution_count": 9,
     "metadata": {},
     "output_type": "execute_result"
    },
    {
     "data": {
      "image/png": "[encoded data removed]",
      "text/plain": [
       "<Figure size 640x480 with 1 Axes>"
      ]
     },
     "metadata": {},
     "output_type": "display_data"
    }
   ],
   "source": [
    "# visualize the rewards over search\n",
    "fig, ax = plt.subplots()\n",
    "ax.plot(np.arange(len(rewards)), rewards, marker='o')\n",
    "ax.set_xlabel('Iteration')\n",
    "ax.set_ylabel('Reward')\n"
   ]
  },
  {
   "cell_type": "code",
   "execution_count": 10,
   "id": "2ab27de4-afc1-4972-a989-843114505e58",
   "metadata": {},
   "outputs": [
    {
     "data": {
      "text/plain": [
       "(array([2, 1, 0, 2, 0, 0, 1, 0, 0, 0], dtype=int32),\n",
       " [array([[3.6267118e-06, 1.3236579e-05, 9.9998033e-01, 2.0078558e-06,\n",
       "          7.8593530e-07]], dtype=float32),\n",
       "  array([[1.4216220e-04, 9.9954861e-01, 2.8669066e-04, 1.4987316e-05,\n",
       "          7.5608668e-06]], dtype=float32),\n",
       "  array([[[0.9045904 , 0.09540957]]], dtype=float32),\n",
       "  array([[2.2542696e-07, 5.2161817e-04, 9.9945611e-01, 3.9164235e-07,\n",
       "          2.1680898e-05]], dtype=float32),\n",
       "  array([[[9.9998283e-01, 1.7203627e-05],\n",
       "          [9.9999952e-01, 4.3260164e-07]]], dtype=float32),\n",
       "  array([[2.4072003e-07, 9.9896812e-01, 9.4500865e-07, 1.0204050e-03,\n",
       "          1.0280305e-05]], dtype=float32),\n",
       "  array([[[9.9999988e-01, 6.1396364e-08],\n",
       "          [1.0000000e+00, 3.3440515e-09],\n",
       "          [9.9999964e-01, 3.2567655e-07]]], dtype=float32)])"
      ]
     },
     "execution_count": 10,
     "metadata": {},
     "output_type": "execute_result"
    }
   ],
   "source": [
    "controller.sample()"
   ]
  },
  {
   "cell_type": "markdown",
   "id": "4f35a04a-8ca2-402e-95d5-26a91ce2fd08",
   "metadata": {},
   "source": [
    "We can see the `RecurrentRLController` successfully learned the optimal architecture `[2,1,2,1]`. Note we only score the Computational Operation part of the architecture, not the Residual Connections."
   ]
  },
  {
   "cell_type": "code",
   "execution_count": 11,
   "id": "c83e5772-2969-4758-9074-e961a867be63",
   "metadata": {},
   "outputs": [
    {
     "name": "stdout",
     "output_type": "stream",
     "text": [
      "Author: FrankZijunZhang\n",
      "\n",
      "Last updated: 2023-12-12 11:48:29\n",
      "\n",
      "amber     : 2.0.0b0\n",
      "matplotlib: 3.2.2\n",
      "numpy     : 1.24.4\n",
      "\n"
     ]
    }
   ],
   "source": [
    "%load_ext watermark\n",
    "%watermark -t -u -iv -a FrankZijunZhang -d "
   ]
  },
  {
   "cell_type": "code",
   "execution_count": null,
   "id": "9de7cf1b-1d05-461b-abdf-f06bf4141a8a",
   "metadata": {},
   "outputs": [],
   "source": []
  }
 ],
 "metadata": {
  "kernelspec": {
   "display_name": "Python 3 (ipykernel)",
   "language": "python",
   "name": "python3"
  },
  "language_info": {
   "codemirror_mode": {
    "name": "ipython",
    "version": 3
   },
   "file_extension": ".py",
   "mimetype": "text/x-python",
   "name": "python",
   "nbconvert_exporter": "python",
   "pygments_lexer": "ipython3",
   "version": "3.10.12"
  }
 },
 "nbformat": 4,
 "nbformat_minor": 5
}
