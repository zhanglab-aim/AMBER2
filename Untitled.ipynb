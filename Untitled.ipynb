{
 "cells": [
  {
   "cell_type": "code",
   "execution_count": null,
   "id": "262c9445",
   "metadata": {},
   "outputs": [],
   "source": []
  },
  {
   "cell_type": "code",
   "execution_count": 1,
   "id": "f041afb0",
   "metadata": {},
   "outputs": [
    {
     "name": "stderr",
     "output_type": "stream",
     "text": [
      "2023-12-09 16:54:06.482822: I tensorflow/core/platform/cpu_feature_guard.cc:193] This TensorFlow binary is optimized with oneAPI Deep Neural Network Library (oneDNN) to use the following CPU instructions in performance-critical operations:  AVX2 FMA\n",
      "To enable them in other operations, rebuild TensorFlow with the appropriate compiler flags.\n"
     ]
    }
   ],
   "source": [
    "import amber"
   ]
  },
  {
   "cell_type": "code",
   "execution_count": 2,
   "id": "bfa71d10",
   "metadata": {},
   "outputs": [],
   "source": [
    "from amber.architect.variable_space import IntegerModelVariable, ContinuousModelVariable\n",
    "from amber.architect.variable_space import VariableSpace"
   ]
  },
  {
   "cell_type": "code",
   "execution_count": 3,
   "id": "4ce56fbe",
   "metadata": {},
   "outputs": [],
   "source": [
    "vs = VariableSpace.from_list([\n",
    "    IntegerModelVariable('layer3_operator', 1, 5),\n",
    "    IntegerModelVariable('layer2_operator', 1, 5),\n",
    "    IntegerModelVariable('layer1_operator', 1, 5),\n",
    "    ContinuousModelVariable('layer0_dropout', 0, 1),\n",
    "])"
   ]
  },
  {
   "cell_type": "code",
   "execution_count": 4,
   "id": "ed87e2dd",
   "metadata": {},
   "outputs": [
    {
     "data": {
      "text/plain": [
       "4"
      ]
     },
     "execution_count": 4,
     "metadata": {},
     "output_type": "execute_result"
    }
   ],
   "source": [
    "len(vs)"
   ]
  },
  {
   "cell_type": "code",
   "execution_count": 5,
   "id": "8077bb38",
   "metadata": {},
   "outputs": [
    {
     "data": {
      "text/plain": [
       "Variable(name=layer0_dropout, value=0.107)"
      ]
     },
     "execution_count": 5,
     "metadata": {},
     "output_type": "execute_result"
    }
   ],
   "source": [
    "vs[-1]"
   ]
  },
  {
   "cell_type": "code",
   "execution_count": null,
   "id": "4f977aeb",
   "metadata": {},
   "outputs": [],
   "source": []
  }
 ],
 "metadata": {
  "kernelspec": {
   "display_name": "Python 3 (ipykernel)",
   "language": "python",
   "name": "python3"
  },
  "language_info": {
   "codemirror_mode": {
    "name": "ipython",
    "version": 3
   },
   "file_extension": ".py",
   "mimetype": "text/x-python",
   "name": "python",
   "nbconvert_exporter": "python",
   "pygments_lexer": "ipython3",
   "version": "3.10.8"
  }
 },
 "nbformat": 4,
 "nbformat_minor": 5
}
